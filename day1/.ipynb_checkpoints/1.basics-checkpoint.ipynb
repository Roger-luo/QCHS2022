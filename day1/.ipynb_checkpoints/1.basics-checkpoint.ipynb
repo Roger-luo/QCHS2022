{
 "cells": [
  {
   "cell_type": "markdown",
   "id": "3b9f35bf",
   "metadata": {},
   "source": [
    "## Day 1 Tutorial Outlines\n",
    "\n",
    "### Basics\n",
    "\n",
    "- The Quantum Blocks of Yao\n",
    "  - primitive and composite blocks\n",
    "  - understanding terminal prints and plotting the circuits\n",
    "- traversing the block expression\n",
    "  - The Registers of Yao\n",
    "- the concept of registers\n",
    "  - the array register for full state circuit simulation\n",
    "\n",
    "### QFT and Phase Estimation with Yao\n",
    "\n",
    "We will go through the Quantum Fourier Transform circuit and use it on quantum phase estimation with Yao to better understand the blocks and registers.\n",
    "\n",
    "### Variational Quantum Eigensolver using automatic differentiation\n",
    "\n",
    "In this example, we will go through the most straightforward variational quantum algorithm to learn how to use automatic differentiation.\n",
    "\n",
    "## Day 1 Hands-on Task\n",
    "\n",
    "1. approximate state cloning via automatic differentiation\n",
    "2. pruning your quantum circuit by removing gates with small parameters"
   ]
  },
  {
   "cell_type": "code",
   "execution_count": 1,
   "id": "4acb7467",
   "metadata": {},
   "outputs": [],
   "source": [
    "using Yao, YaoPlots"
   ]
  },
  {
   "cell_type": "markdown",
   "id": "0c24897f",
   "metadata": {},
   "source": [
    "# The Quantum Blocks of Yao\n",
    "\n",
    "quantum blocks are symbolic expression for quantum operators in Yao, especially for quantum circuits, there are two kind of quantum blocks in general\n",
    "\n",
    "- the primitive blocks\n",
    "- the composite blocks\n",
    "\n",
    "for example, the Pauli X operator is a `PrimitiveBlock`"
   ]
  },
  {
   "cell_type": "code",
   "execution_count": 3,
   "id": "c849a8bc",
   "metadata": {},
   "outputs": [
    {
     "data": {
      "text/plain": [
       "true"
      ]
     },
     "execution_count": 3,
     "metadata": {},
     "output_type": "execute_result"
    }
   ],
   "source": [
    "X isa PrimitiveBlock"
   ]
  },
  {
   "cell_type": "code",
   "execution_count": 4,
   "id": "44c2d2f8",
   "metadata": {},
   "outputs": [
    {
     "name": "stdout",
     "output_type": "stream",
     "text": [
      "search: \u001b[0m\u001b[1mX\u001b[22m \u001b[0m\u001b[1mx\u001b[22mor \u001b[0m\u001b[1mX\u001b[22mGate R\u001b[0m\u001b[1mx\u001b[22m e\u001b[0m\u001b[1mx\u001b[22mp E\u001b[0m\u001b[1mx\u001b[22mpr e\u001b[0m\u001b[1mx\u001b[22mp2 e\u001b[0m\u001b[1mx\u001b[22mit a\u001b[0m\u001b[1mx\u001b[22mes e\u001b[0m\u001b[1mx\u001b[22mpm1 e\u001b[0m\u001b[1mx\u001b[22mp10 e\u001b[0m\u001b[1mx\u001b[22mport e\u001b[0m\u001b[1mx\u001b[22mpect e\u001b[0m\u001b[1mx\u001b[22mtrema\n",
      "\n"
     ]
    },
    {
     "data": {
      "text/latex": [
       "\\begin{verbatim}\n",
       "X\n",
       "XGate <: ConstantGate{1,2}\n",
       "\\end{verbatim}\n",
       "Pauli X gate. \\texttt{X} is the instance of \\texttt{XGate}.\n",
       "\n"
      ],
      "text/markdown": [
       "```\n",
       "X\n",
       "XGate <: ConstantGate{1,2}\n",
       "```\n",
       "\n",
       "Pauli X gate. `X` is the instance of `XGate`.\n"
      ],
      "text/plain": [
       "\u001b[36m  X\u001b[39m\n",
       "\u001b[36m  XGate <: ConstantGate{1,2}\u001b[39m\n",
       "\n",
       "  Pauli X gate. \u001b[36mX\u001b[39m is the instance of \u001b[36mXGate\u001b[39m."
      ]
     },
     "execution_count": 4,
     "metadata": {},
     "output_type": "execute_result"
    }
   ],
   "source": [
    "?X"
   ]
  },
  {
   "cell_type": "markdown",
   "id": "c1ddac02",
   "metadata": {},
   "source": [
    "or you can also have primitive blocks that contain parameters, e.g rotation on the X axis (Rx gate)"
   ]
  },
  {
   "cell_type": "code",
   "execution_count": 5,
   "id": "18d230a0",
   "metadata": {},
   "outputs": [
    {
     "data": {
      "text/plain": [
       "rot(X, 0.1)"
      ]
     },
     "execution_count": 5,
     "metadata": {},
     "output_type": "execute_result"
    }
   ],
   "source": [
    "Rx(0.1)"
   ]
  },
  {
   "cell_type": "code",
   "execution_count": 6,
   "id": "039f18ae",
   "metadata": {},
   "outputs": [
    {
     "name": "stdout",
     "output_type": "stream",
     "text": [
      "search: \u001b[0m\u001b[1mR\u001b[22m\u001b[0m\u001b[1mx\u001b[22m f\u001b[0m\u001b[1mr\u001b[22me\u001b[0m\u001b[1mx\u001b[22mp Mat\u001b[0m\u001b[1mr\u001b[22mi\u001b[0m\u001b[1mx\u001b[22m isapp\u001b[0m\u001b[1mr\u001b[22mo\u001b[0m\u001b[1mx\u001b[22m BitMat\u001b[0m\u001b[1mr\u001b[22mi\u001b[0m\u001b[1mx\u001b[22m DenseMat\u001b[0m\u001b[1mr\u001b[22mi\u001b[0m\u001b[1mx\u001b[22m applymat\u001b[0m\u001b[1mr\u001b[22mi\u001b[0m\u001b[1mx\u001b[22m mac\u001b[0m\u001b[1mr\u001b[22moe\u001b[0m\u001b[1mx\u001b[22mpand\n",
      "\n"
     ]
    },
    {
     "data": {
      "text/latex": [
       "\\begin{verbatim}\n",
       "Rx(theta)\n",
       "\\end{verbatim}\n",
       "Return a \\href{@ref}{\\texttt{RotationGate}} on X axis.\n",
       "\n",
       "\\section{Example}\n",
       "\\begin{verbatim}\n",
       "julia> Rx(0.1)\n",
       "rot(X, 0.1)\n",
       "\\end{verbatim}\n"
      ],
      "text/markdown": [
       "```\n",
       "Rx(theta)\n",
       "```\n",
       "\n",
       "Return a [`RotationGate`](@ref) on X axis.\n",
       "\n",
       "# Example\n",
       "\n",
       "```jldoctest; setup=:(using YaoBlocks)\n",
       "julia> Rx(0.1)\n",
       "rot(X, 0.1)\n",
       "```\n"
      ],
      "text/plain": [
       "\u001b[36m  Rx(theta)\u001b[39m\n",
       "\n",
       "  Return a \u001b[36mRotationGate\u001b[39m on X axis.\n",
       "\n",
       "\u001b[1m  Example\u001b[22m\n",
       "\u001b[1m  ≡≡≡≡≡≡≡≡≡\u001b[22m\n",
       "\n",
       "\u001b[36m  julia> Rx(0.1)\u001b[39m\n",
       "\u001b[36m  rot(X, 0.1)\u001b[39m"
      ]
     },
     "execution_count": 6,
     "metadata": {},
     "output_type": "execute_result"
    }
   ],
   "source": [
    "?Rx"
   ]
  },
  {
   "cell_type": "markdown",
   "id": "73e2a4b1",
   "metadata": {},
   "source": [
    "then using composite blocks, you can compose other blocks together with your own abstractions, for example, we can chain two X gate together"
   ]
  },
  {
   "cell_type": "code",
   "execution_count": 7,
   "id": "e1f0b528",
   "metadata": {},
   "outputs": [
    {
     "data": {
      "text/plain": [
       "\u001b[36mnqubits: 1\u001b[39m\n",
       "\u001b[34m\u001b[1mchain\u001b[22m\u001b[39m\n",
       "├─ X\n",
       "└─ X"
      ]
     },
     "execution_count": 7,
     "metadata": {},
     "output_type": "execute_result"
    }
   ],
   "source": [
    "chain(X, X)"
   ]
  },
  {
   "cell_type": "markdown",
   "id": "8a1b7c37",
   "metadata": {},
   "source": [
    "here let's discuss the printing results a bit, "
   ]
  }
 ],
 "metadata": {
  "kernelspec": {
   "display_name": "Julia 1.7.3",
   "language": "julia",
   "name": "julia-1.7"
  },
  "language_info": {
   "file_extension": ".jl",
   "mimetype": "application/julia",
   "name": "julia",
   "version": "1.7.3"
  }
 },
 "nbformat": 4,
 "nbformat_minor": 5
}
